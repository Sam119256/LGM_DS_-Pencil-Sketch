{
 "cells": [
  {
   "cell_type": "code",
   "execution_count": 16,
   "id": "d925444a",
   "metadata": {},
   "outputs": [],
   "source": [
    "import cv2"
   ]
  },
  {
   "cell_type": "code",
   "execution_count": 17,
   "id": "d7278576",
   "metadata": {},
   "outputs": [],
   "source": [
    "import cv2\n",
    "# Load the image\n",
    "image1 = cv2.imread(r\"E:\\notes\\LetsGrowMore\\PencilSketch\\drawing.jpg\")\n",
    "# Check if the image was loaded correctly\n",
    "if image1 is None:\n",
    "    print(\"Error: Unable to load image.\")\n",
    "else:\n",
    "    # Display the image in a window\n",
    "    cv2.imshow(\"drawing\", image1)\n",
    "    # Wait for a key press and close the window\n",
    "    cv2.waitKey(0)"
   ]
  },
  {
   "cell_type": "code",
   "execution_count": 18,
   "id": "85ac2186-e0ef-43c2-b597-0ca9b1fd6643",
   "metadata": {},
   "outputs": [
    {
     "name": "stdout",
     "output_type": "stream",
     "text": [
      "[[[151 132 213]\n",
      "  [152 132 215]\n",
      "  [153 133 216]\n",
      "  ...\n",
      "  [196 159 199]\n",
      "  [171 134 174]\n",
      "  [155 118 158]]\n",
      "\n",
      " [[139 120 201]\n",
      "  [142 122 205]\n",
      "  [145 126 207]\n",
      "  ...\n",
      "  [198 161 201]\n",
      "  [174 137 177]\n",
      "  [159 122 162]]\n",
      "\n",
      " [[123 103 186]\n",
      "  [127 106 191]\n",
      "  [132 112 195]\n",
      "  ...\n",
      "  [200 162 204]\n",
      "  [179 142 182]\n",
      "  [163 128 168]]\n",
      "\n",
      " ...\n",
      "\n",
      " [[ 46 103  42]\n",
      "  [ 66 123  62]\n",
      "  [ 88 147  86]\n",
      "  ...\n",
      "  [ 66  33 221]\n",
      "  [ 71  37 227]\n",
      "  [ 76  42 232]]\n",
      "\n",
      " [[ 37  96  35]\n",
      "  [ 59 116  55]\n",
      "  [ 83 142  81]\n",
      "  ...\n",
      "  [ 78  44 234]\n",
      "  [ 83  46 238]\n",
      "  [ 84  50 240]]\n",
      "\n",
      " [[ 39  96  35]\n",
      "  [ 61 115  55]\n",
      "  [ 82 141  80]\n",
      "  ...\n",
      "  [ 85  51 241]\n",
      "  [ 85  51 242]\n",
      "  [ 86  54 243]]]\n"
     ]
    }
   ],
   "source": [
    "print(image1)"
   ]
  },
  {
   "cell_type": "markdown",
   "id": "36ad4f9e",
   "metadata": {},
   "source": [
    "# Creating a new image by converting the original image to greyscale"
   ]
  },
  {
   "cell_type": "code",
   "execution_count": 19,
   "id": "760274e6",
   "metadata": {},
   "outputs": [
    {
     "data": {
      "text/plain": [
       "-1"
      ]
     },
     "execution_count": 19,
     "metadata": {},
     "output_type": "execute_result"
    }
   ],
   "source": [
    "gray_image1 = cv2.cvtColor(image1, cv2.COLOR_BGR2GRAY)\n",
    "cv2.imshow(\"pencil sketch drawing\", gray_image1)\n",
    "cv2.waitKey(0)"
   ]
  },
  {
   "cell_type": "markdown",
   "id": "b5511326",
   "metadata": {},
   "source": [
    "# Inverting the new grayscale image"
   ]
  },
  {
   "cell_type": "code",
   "execution_count": 20,
   "id": "a4c0d98c",
   "metadata": {},
   "outputs": [
    {
     "data": {
      "text/plain": [
       "-1"
      ]
     },
     "execution_count": 20,
     "metadata": {},
     "output_type": "execute_result"
    }
   ],
   "source": [
    "inverted_image1 = 255 - gray_image1\n",
    "cv2.imshow(\"Inverted1\", inverted_image1)\n",
    "cv2.waitKey()"
   ]
  },
  {
   "cell_type": "markdown",
   "id": "7a3c8d8c",
   "metadata": {},
   "source": [
    "#  Bluring the image by using the Gaussian Function in OpenCV"
   ]
  },
  {
   "cell_type": "code",
   "execution_count": 21,
   "id": "279011c3",
   "metadata": {},
   "outputs": [],
   "source": [
    "blurred1 = cv2.GaussianBlur(inverted_image1, (21, 21), 0)"
   ]
  },
  {
   "cell_type": "markdown",
   "id": "19e42605",
   "metadata": {},
   "source": [
    "# Inverting the blurred image and then we can easily convert the image into a pencil sketch"
   ]
  },
  {
   "cell_type": "code",
   "execution_count": 22,
   "id": "ee3df829",
   "metadata": {},
   "outputs": [
    {
     "data": {
      "text/plain": [
       "-1"
      ]
     },
     "execution_count": 22,
     "metadata": {},
     "output_type": "execute_result"
    }
   ],
   "source": [
    "inverted_blurred1 = 255 - blurred1\n",
    "pencil_sketch1 = cv2.divide(gray_image1, inverted_blurred1, scale=256.0)\n",
    "cv2.imshow(\"Sketch1\", pencil_sketch1)\n",
    "cv2.waitKey(0)"
   ]
  },
  {
   "cell_type": "markdown",
   "id": "3908e369",
   "metadata": {},
   "source": [
    "# looking at both the original image and the pencil sketch\n"
   ]
  },
  {
   "cell_type": "code",
   "execution_count": 23,
   "id": "8c58df35",
   "metadata": {},
   "outputs": [
    {
     "data": {
      "text/plain": [
       "-1"
      ]
     },
     "execution_count": 23,
     "metadata": {},
     "output_type": "execute_result"
    }
   ],
   "source": [
    "cv2.imshow(\"original image1\", image1)\n",
    "cv2.imshow(\"pencil sketch1\", pencil_sketch1)\n",
    "cv2.waitKey(0)"
   ]
  },
  {
   "cell_type": "code",
   "execution_count": null,
   "id": "c16db874-7a08-4bd9-bc77-e9364c935bf3",
   "metadata": {},
   "outputs": [],
   "source": []
  },
  {
   "cell_type": "code",
   "execution_count": null,
   "id": "a14fd12c-5aea-48db-87ce-67e402b06e81",
   "metadata": {},
   "outputs": [],
   "source": []
  }
 ],
 "metadata": {
  "kernelspec": {
   "display_name": "Python 3 (ipykernel)",
   "language": "python",
   "name": "python3"
  },
  "language_info": {
   "codemirror_mode": {
    "name": "ipython",
    "version": 3
   },
   "file_extension": ".py",
   "mimetype": "text/x-python",
   "name": "python",
   "nbconvert_exporter": "python",
   "pygments_lexer": "ipython3",
   "version": "3.12.6"
  }
 },
 "nbformat": 4,
 "nbformat_minor": 5
}
